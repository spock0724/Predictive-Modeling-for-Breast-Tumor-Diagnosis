{
 "cells": [
  {
   "cell_type": "markdown",
   "id": "aeb34d04",
   "metadata": {},
   "source": [
    "# Predictive Modeling for Breast Tumor Diagnosis"
   ]
  },
  {
   "cell_type": "markdown",
   "id": "b2950c2d",
   "metadata": {},
   "source": [
    "Anna Ayres"
   ]
  },
  {
   "cell_type": "markdown",
   "id": "f3db1a03",
   "metadata": {},
   "source": [
    "### Libraries"
   ]
  },
  {
   "cell_type": "code",
   "execution_count": 1,
   "id": "b430a68d",
   "metadata": {},
   "outputs": [],
   "source": [
    "import numpy as np\n",
    "import pandas as pd\n",
    "import matplotlib.pyplot as plt\n",
    "\n",
    "from sklearn.model_selection import train_test_split\n",
    "from sklearn.model_selection import cross_val_score\n",
    "from sklearn.model_selection import StratifiedKFold\n",
    "from sklearn.model_selection import GridSearchCV\n",
    "\n",
    "from sklearn.neighbors import KNeighborsClassifier\n",
    "from sklearn.linear_model import LogisticRegression\n",
    "\n",
    "from sklearn.metrics import roc_curve\n",
    "from sklearn.metrics import roc_auc_score"
   ]
  },
  {
   "cell_type": "markdown",
   "id": "22cfd835",
   "metadata": {},
   "source": [
    "## Dataset Preprocessing/Exploration"
   ]
  },
  {
   "cell_type": "code",
   "execution_count": 2,
   "id": "42383755",
   "metadata": {},
   "outputs": [],
   "source": [
    "#Read cancer.csv into dataframe\n",
    "df = pd.read_csv('cancer.csv')\n",
    "#Data set provided in folder, contains breast tumor data."
   ]
  },
  {
   "cell_type": "code",
   "execution_count": 3,
   "id": "b42574d5",
   "metadata": {},
   "outputs": [
    {
     "data": {
      "text/html": [
       "<div>\n",
       "<style scoped>\n",
       "    .dataframe tbody tr th:only-of-type {\n",
       "        vertical-align: middle;\n",
       "    }\n",
       "\n",
       "    .dataframe tbody tr th {\n",
       "        vertical-align: top;\n",
       "    }\n",
       "\n",
       "    .dataframe thead th {\n",
       "        text-align: right;\n",
       "    }\n",
       "</style>\n",
       "<table border=\"1\" class=\"dataframe\">\n",
       "  <thead>\n",
       "    <tr style=\"text-align: right;\">\n",
       "      <th></th>\n",
       "      <th>out</th>\n",
       "      <th>radius_mean</th>\n",
       "      <th>texture_mean</th>\n",
       "      <th>perimeter_mean</th>\n",
       "      <th>area_mean</th>\n",
       "      <th>smoothness_mean</th>\n",
       "      <th>compactness_mean</th>\n",
       "      <th>concavity_mean</th>\n",
       "      <th>concave points_mean</th>\n",
       "      <th>symmetry_mean</th>\n",
       "      <th>...</th>\n",
       "      <th>radius_worst</th>\n",
       "      <th>texture_worst</th>\n",
       "      <th>perimeter_worst</th>\n",
       "      <th>area_worst</th>\n",
       "      <th>smoothness_worst</th>\n",
       "      <th>compactness_worst</th>\n",
       "      <th>concavity_worst</th>\n",
       "      <th>concave points_worst</th>\n",
       "      <th>symmetry_worst</th>\n",
       "      <th>fractal_dimension_worst</th>\n",
       "    </tr>\n",
       "  </thead>\n",
       "  <tbody>\n",
       "    <tr>\n",
       "      <th>0</th>\n",
       "      <td>M</td>\n",
       "      <td>17.99</td>\n",
       "      <td>10.38</td>\n",
       "      <td>122.8</td>\n",
       "      <td>1001.0</td>\n",
       "      <td>0.1184</td>\n",
       "      <td>0.2776</td>\n",
       "      <td>0.3001</td>\n",
       "      <td>0.1471</td>\n",
       "      <td>0.2419</td>\n",
       "      <td>...</td>\n",
       "      <td>25.38</td>\n",
       "      <td>17.33</td>\n",
       "      <td>184.6</td>\n",
       "      <td>2019.0</td>\n",
       "      <td>0.1622</td>\n",
       "      <td>0.6656</td>\n",
       "      <td>0.7119</td>\n",
       "      <td>0.2654</td>\n",
       "      <td>0.4601</td>\n",
       "      <td>0.1189</td>\n",
       "    </tr>\n",
       "  </tbody>\n",
       "</table>\n",
       "<p>1 rows × 31 columns</p>\n",
       "</div>"
      ],
      "text/plain": [
       "  out  radius_mean  texture_mean  perimeter_mean  area_mean  smoothness_mean  \\\n",
       "0   M        17.99         10.38           122.8     1001.0           0.1184   \n",
       "\n",
       "   compactness_mean  concavity_mean  concave points_mean  symmetry_mean  ...  \\\n",
       "0            0.2776          0.3001               0.1471         0.2419  ...   \n",
       "\n",
       "   radius_worst  texture_worst  perimeter_worst  area_worst  smoothness_worst  \\\n",
       "0         25.38          17.33            184.6      2019.0            0.1622   \n",
       "\n",
       "   compactness_worst  concavity_worst  concave points_worst  symmetry_worst  \\\n",
       "0             0.6656           0.7119                0.2654          0.4601   \n",
       "\n",
       "   fractal_dimension_worst  \n",
       "0                   0.1189  \n",
       "\n",
       "[1 rows x 31 columns]"
      ]
     },
     "execution_count": 3,
     "metadata": {},
     "output_type": "execute_result"
    }
   ],
   "source": [
    "#Display example row\n",
    "df[:1]"
   ]
  },
  {
   "cell_type": "code",
   "execution_count": 4,
   "id": "890b1494",
   "metadata": {},
   "outputs": [
    {
     "name": "stdout",
     "output_type": "stream",
     "text": [
      "Total patients in the dataset: 569 \n"
     ]
    }
   ],
   "source": [
    "#Display Total in dataset\n",
    "print(f\"Total patients in the dataset: {df.shape[0]} \")"
   ]
  },
  {
   "cell_type": "code",
   "execution_count": 5,
   "id": "2e054d41",
   "metadata": {},
   "outputs": [
    {
     "name": "stdout",
     "output_type": "stream",
     "text": [
      "Proportion of patients with malignant tumors: 0.37258347978910367\n"
     ]
    }
   ],
   "source": [
    "#Replace the labels in column out with 0 for B benign and 1 for M (malignant).\n",
    "df['out'] = df['out'].replace({'B': 0, 'M': 1})\n",
    "\n",
    "#Find total proportion of patients with  M tumor cancer in dataset\n",
    "proportion_cancer = df.out.value_counts()[1]/df.shape[0]\n",
    "print(f\"Proportion of patients with malignant tumors: {proportion_cancer}\")\n",
    "\n",
    "#Seperate data into X, y\n",
    "X = df.drop('out', axis=1)\n",
    "y = df['out']"
   ]
  },
  {
   "cell_type": "markdown",
   "id": "69bd6a86",
   "metadata": {},
   "source": [
    "## Model Building"
   ]
  },
  {
   "cell_type": "code",
   "execution_count": 6,
   "id": "bdfeb996",
   "metadata": {},
   "outputs": [
    {
     "name": "stdout",
     "output_type": "stream",
     "text": [
      "TEST SET\n",
      "Cancer Patients: 64\n",
      "Non-cancer Patients: 107\n",
      "Total: 171\n",
      "\n",
      "TRAIN SET\n",
      "Cancer Patients: 148\n",
      "Non-cancer Patients: 250\n",
      "Total: 398\n"
     ]
    }
   ],
   "source": [
    "#Use train_test_split() with test_size = 0.3 and random_state=42\n",
    "#to split the data into train and test (stratified) sets.\n",
    "\n",
    "X_train, X_test, y_train, y_test = train_test_split(X, y,\n",
    "                                                    stratify=y,\n",
    "                                                    test_size=0.3,\n",
    "                                                    random_state=42)\n",
    "\n",
    "#Display Test and train set totals   \n",
    "print(f\"TEST SET\\nCancer Patients: {sum(y_test == 1)}\\n\\\n",
    "Non-cancer Patients: {sum(y_test == 0)}\\n\\\n",
    "Total: {len(y_test)}\") \n",
    "   \n",
    "print(f\"\\nTRAIN SET\\nCancer Patients: {sum(y_train == 1)}\\n\\\n",
    "Non-cancer Patients: {sum(y_train == 0)}\\n\\\n",
    "Total: {len(y_train)}\") "
   ]
  },
  {
   "cell_type": "markdown",
   "id": "33eeb620",
   "metadata": {},
   "source": [
    "  ##         - KNN Model"
   ]
  },
  {
   "cell_type": "code",
   "execution_count": 7,
   "id": "701745c2",
   "metadata": {},
   "outputs": [],
   "source": [
    "#Use the train set to build a KNN model.\n",
    "knn = KNeighborsClassifier(n_neighbors=13)\n",
    "knn.fit(X_train, y_train)\n",
    "\n",
    "probabs = knn.predict_proba(X_test)\n",
    "    # select last column (category 1)\n",
    "probabs = knn.predict_proba(X_test)[:,1]"
   ]
  },
  {
   "cell_type": "code",
   "execution_count": 8,
   "id": "e16ff475",
   "metadata": {},
   "outputs": [
    {
     "data": {
      "image/png": "[encoded data removed]",
      "text/plain": [
       "<Figure size 640x480 with 1 Axes>"
      ]
     },
     "metadata": {},
     "output_type": "display_data"
    }
   ],
   "source": [
    "# Plot ROC for KNN\n",
    "\n",
    "fpr,tpr,thresholds = roc_curve(y_test,probabs)\n",
    "\n",
    "#Use np.argmax(tpr-fpr) to find the best threshold.\n",
    "idx = np.argmax(tpr-fpr)\n",
    "\n",
    "#Show KNN best threshold (red dot)\n",
    "value = thresholds[idx].round(4)\n",
    "plt.plot(fpr[idx], tpr[idx], 'ro',ms=7)\n",
    "plt.annotate(value,(1.2*fpr[idx], \n",
    "                    0.97*tpr[idx])\n",
    "            )\n",
    "\n",
    "# plot 45-degree line\n",
    "xaxis = yaxis = [0,1]\n",
    "plt.plot(xaxis,yaxis,'r--',linewidth=0.5)\n",
    "\n",
    "# display KNN ROC curve\n",
    "plt.plot(fpr,tpr,'k')\n",
    "plt.title('KNN ROC')\n",
    "plt.xlabel('False Positive Rate')\n",
    "plt.ylabel('True Positive Rate')\n",
    "plt.grid()"
   ]
  },
  {
   "cell_type": "markdown",
   "id": "729f21e1",
   "metadata": {},
   "source": [
    "## - Logistic Regression Model"
   ]
  },
  {
   "cell_type": "code",
   "execution_count": 9,
   "id": "a79424e7",
   "metadata": {},
   "outputs": [],
   "source": [
    "#Use the train set to build a logistic regression model. \n",
    "logistic_regression = LogisticRegression(max_iter=10000)\n",
    "logistic_regression.fit(X_train, y_train)\n",
    "\n",
    "probabs2 = logistic_regression.predict_proba(X_test)\n",
    "    # Select last column (category 1)\n",
    "probabs2 = logistic_regression.predict_proba(X_test)[:,1]"
   ]
  },
  {
   "cell_type": "code",
   "execution_count": 10,
   "id": "1ca82ec9",
   "metadata": {},
   "outputs": [
    {
     "data": {
      "image/png": "[encoded data removed]",
      "text/plain": [
       "<Figure size 640x480 with 1 Axes>"
      ]
     },
     "metadata": {},
     "output_type": "display_data"
    }
   ],
   "source": [
    "#Plot the ROC curve for LogReg\n",
    "\n",
    "fpr2,tpr2,thresholds2 = roc_curve(y_test,probabs2)\n",
    "\n",
    "#Use np.argmax(tpr2-fpr2) to find the best threshold\n",
    "idx2 = np.argmax(tpr2-fpr2)\n",
    "\n",
    "#Show LogReg best threshold (red dot)\n",
    "value2 = thresholds2[idx2].round(4)\n",
    "plt.plot(fpr2[idx2], tpr2[idx2], 'ro',ms=7)\n",
    "plt.annotate(value2,\n",
    "             (0.6*fpr2[idx2], 1.03*tpr2[idx2]), \n",
    "             color = 'r')\n",
    "plt.plot(fpr2,tpr2,'k')\n",
    "\n",
    "#Plot 45-degree line\n",
    "xaxis = yaxis = [0,1]\n",
    "plt.plot(xaxis,yaxis,'r--',linewidth=0.5)\n",
    "\n",
    "#Display Logistic Regression ROC curve\n",
    "plt.plot(fpr2,tpr2,'k')\n",
    "plt.title('Logistic Regression ROC')\n",
    "plt.xlabel('False Positive Rate')\n",
    "plt.ylabel('True Positive Rate')\n",
    "plt.grid()"
   ]
  },
  {
   "cell_type": "markdown",
   "id": "80e39ed9",
   "metadata": {},
   "source": [
    "## Results Interpretation"
   ]
  },
  {
   "cell_type": "markdown",
   "id": "a90c7e69",
   "metadata": {},
   "source": [
    "### Area Under Curve (AUC) Analysis\n",
    "####  The Area Under the Receiver Operating Characteristic (ROC) Curve (AUC) is used to evaluate the performance of both  classification models. This study calculates the AUC for both the K-Nearest Neighbors (KNN) and Logistic Regression models."
   ]
  },
  {
   "cell_type": "code",
   "execution_count": 11,
   "id": "b53e2553",
   "metadata": {},
   "outputs": [
    {
     "name": "stdout",
     "output_type": "stream",
     "text": [
      "AUC Analysis\n",
      "\n",
      "KNN AUC: 0.9826226635514018\n",
      "Logistc Regression AUC: 0.9940128504672897\n",
      "\n",
      "The Logistc Regression model yields superior results.\n"
     ]
    }
   ],
   "source": [
    "# Area Under Curve (AUC) for KNN\n",
    "auc1 = roc_auc_score(y_test,probabs)\n",
    "\n",
    "# AUC for Logistic Regression\n",
    "auc2 = roc_auc_score(y_test,probabs2)\n",
    "\n",
    "print(\"AUC Analysis\")\n",
    "print(f\"\\nKNN AUC: {auc1}\")\n",
    "print(f\"Logistc Regression AUC: {auc2}\\n\")\n",
    "\n",
    "if auc1 > auc2:\n",
    "    print(f\"The KNN model yields superior results.\")\n",
    "elif auc2 > auc1:\n",
    "    print(f\"The Logistc Regression model yields superior results.\")\n",
    "else:\n",
    "    print(f\"The is no difference in AUC scores.\")"
   ]
  },
  {
   "cell_type": "markdown",
   "id": "90e7d4e1",
   "metadata": {},
   "source": [
    "### Best Threshold Analysis\n",
    "#### Optimal threshold for classification models is used to achieve the balance between sensitivity and specificity. This study calculates the best threshold values for both the K-Nearest Neighbors (KNN) and Logistic Regression models."
   ]
  },
  {
   "cell_type": "code",
   "execution_count": 12,
   "id": "d2629824",
   "metadata": {},
   "outputs": [
    {
     "name": "stdout",
     "output_type": "stream",
     "text": [
      "Best Threshold Analysis\n",
      "\n",
      "Logistic Regression model best threshold is closest to\n",
      "(fpr=0, tpr=1) at a distance of 0.04927207571924516 \n",
      "\n",
      "KNN Distance: 0.06850069237201833\n"
     ]
    },
    {
     "data": {
      "image/png": "[encoded data removed]",
      "text/plain": [
       "<Figure size 640x480 with 1 Axes>"
      ]
     },
     "metadata": {},
     "output_type": "display_data"
    }
   ],
   "source": [
    "#Display both ROC Curves on the same plot identifying their\n",
    "#best threshold values (black for KNN and red for logistic regression). \n",
    "\n",
    "# KNN\n",
    "plt.plot(fpr[idx], tpr[idx], 'ko',ms=7)\n",
    "plt.annotate(value,(1.6*fpr[idx], 0.96*tpr[idx]))\n",
    "plt.plot(fpr,tpr,'k',label = 'KNN')\n",
    "\n",
    "# Logistic Regression\n",
    "value2 = thresholds2[idx2].round(4)\n",
    "plt.plot(fpr2[idx2], tpr2[idx2], 'ro',ms=7)\n",
    "plt.annotate(value2,\n",
    "             (0.6*fpr2[idx2], 1.03*tpr2[idx2]), \n",
    "             color = 'r')\n",
    "plt.plot(fpr2,tpr2,'r',label = 'Log.Regression')\n",
    "\n",
    "\n",
    "#Plot 45-degree line\n",
    "xaxis = yaxis = [0,1]\n",
    "plt.plot(xaxis,yaxis,'r--',linewidth=0.5)\n",
    "\n",
    "#Plot blue dot for (fpr=0, tpr=1)\n",
    "plt.plot(0,1,'bo')\n",
    "\n",
    "plt.xlabel('False Positive Rate')\n",
    "plt.ylabel('True Positive Rate')\n",
    "plt.legend(loc=4)\n",
    "plt.grid()\n",
    "\n",
    "#Find best threshold closest to coordinate (fpr=0, tpr=1)\n",
    "distance_knn = np.sqrt((fpr[idx])**2 + (1 - tpr[idx])**2)\n",
    "distance_logreg = np.sqrt((fpr2[idx2])**2 + (1 - tpr2[idx2])**2)\n",
    "\n",
    "#Display results\n",
    "print(\"Best Threshold Analysis\\n\")\n",
    "if distance_knn < distance_logreg:\n",
    "    print(f\"KNN model best threshold is closest to\\n(fpr=0, tpr=1)\\\n",
    "at a distance of {distance_knn}.\\n\\nLogistic Regression Distance: {distance_logreg}\")\n",
    "elif distance_logreg < distance_knn:\n",
    "    print(f\"Logistic Regression model best threshold is closest to\\n\\\n",
    "(fpr=0, tpr=1) at a distance of {distance_logreg} \\n\\nKNN Distance: {distance_knn}\")\n",
    "else:\n",
    "    print(f\"Both model best thresholds are equidistant to coordinates\\\n",
    "(fpr=0, tpr=1).\\nKNN Distance: {distance_knn}\\n\\\n",
    "Logistic Regression Distance: {distance_logreg}\")"
   ]
  },
  {
   "cell_type": "markdown",
   "id": "df5900e1",
   "metadata": {},
   "source": [
    "### True Positive Rate (TPR) Analysis\n",
    "#### The True Positive Rate (TPR), or true sensitivity, measures proportion of actual positive instances that are correctly identified by the classification models. This study calculates the TPR values for both the K-Nearest Neighbors (KNN) and Logistic Regression models."
   ]
  },
  {
   "cell_type": "code",
   "execution_count": 13,
   "id": "fc0b6e52",
   "metadata": {},
   "outputs": [
    {
     "name": "stdout",
     "output_type": "stream",
     "text": [
      "TPR Analysis\n",
      "\n",
      "Logistic Regression Model yields superior TPR\n",
      "\n",
      "KNN model positive accuracy rate: 0.9375\n",
      "Logistic Regression model positive accuracy rate: 0.984375\n"
     ]
    }
   ],
   "source": [
    "#Display best TPR\n",
    "print(\"TPR Analysis\\n\")\n",
    "\n",
    "if tpr[idx] >  tpr2[idx2]:\n",
    "    print(\"KNN Model yields superior TPR\")\n",
    "elif tpr[idx] <  tpr2[idx2]:\n",
    "    print(\"Logistic Regression Model yields superior TPR\\n\")\n",
    "else:\n",
    "    print(\"Both models TPR are equal\\nKNN: {tpr[idx]}\\nLogistic Regression: {tpr2[idx2]}\")\n",
    "    \n",
    "print(f\"KNN model positive accuracy rate: {tpr[idx]}\")\n",
    "print(f\"Logistic Regression model positive accuracy rate: {tpr2[idx2]}\")\n"
   ]
  },
  {
   "cell_type": "markdown",
   "id": "07064dae",
   "metadata": {},
   "source": [
    "## Conclusion\n",
    "####  The findings from the AUC, best threshold, and TPR analyses demonstrate that the Logistic Regression model outperforms the KNN model across all evaluated metrics within the variables defined in this study."
   ]
  }
 ],
 "metadata": {
  "kernelspec": {
   "display_name": "Python 3 (ipykernel)",
   "language": "python",
   "name": "python3"
  },
  "language_info": {
   "codemirror_mode": {
    "name": "ipython",
    "version": 3
   },
   "file_extension": ".py",
   "mimetype": "text/x-python",
   "name": "python",
   "nbconvert_exporter": "python",
   "pygments_lexer": "ipython3",
   "version": "3.11.5"
  }
 },
 "nbformat": 4,
 "nbformat_minor": 5
}
